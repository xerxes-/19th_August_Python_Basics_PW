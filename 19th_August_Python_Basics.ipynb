{
 "cells": [
  {
   "cell_type": "markdown",
   "id": "f2a18f12-5d47-427a-94dd-844e1a8940b9",
   "metadata": {
    "tags": []
   },
   "source": [
    "# TOPIC: Python Basics Variable"
   ]
  },
  {
   "cell_type": "markdown",
   "id": "9190940a-4ca4-4d0f-9d56-4757698a1727",
   "metadata": {
    "tags": []
   },
   "source": [
    "#### 1. Declare two variables, `x` and `y`, and assign them integer values. Swap the values of these variables without using any temporary variable."
   ]
  },
  {
   "cell_type": "code",
   "execution_count": null,
   "id": "1e5550d9-ce24-4f56-bcbb-9e107f35f252",
   "metadata": {},
   "outputs": [],
   "source": [
    "x = 4\n",
    "y = 8\n",
    "\n",
    "# swapping the int values\n",
    "x, y = y, x  \n",
    "\n",
    "print(x)\n",
    "print(y)"
   ]
  },
  {
   "cell_type": "markdown",
   "id": "eea30037-2bae-4984-a4e7-7f7cb9452694",
   "metadata": {},
   "source": [
    "#### 2. Create a program that calculates the area of a rectangle. Take the length and width as inputs from the user and store them in variables. Calculate and display the area."
   ]
  },
  {
   "cell_type": "code",
   "execution_count": null,
   "id": "1e911d7c-7471-4d47-84ed-0efeef2b4bf3",
   "metadata": {},
   "outputs": [],
   "source": [
    "l = int(input(\"Enter the length of the rectangle:\"))\n",
    "w = int(input(\"Enter the width of the rectangle:\"))\n",
    "\n",
    "# area of the rectangle\n",
    "area = l * w  \n",
    "\n",
    "print(\"Area of the Rectangle is\", area)"
   ]
  },
  {
   "cell_type": "markdown",
   "id": "236e0a21-41eb-442d-aaf9-9a842f196d43",
   "metadata": {},
   "source": [
    "#### 3. Write a Python program that converts temperatures from Celsius to Fahrenheit. Take the temperature in Celsius as input, store it in a variable, convert it to Fahrenheit, and display the result"
   ]
  },
  {
   "cell_type": "code",
   "execution_count": null,
   "id": "ed1e78e7-6d06-4f05-be8b-004e7cecb7b2",
   "metadata": {},
   "outputs": [],
   "source": [
    "c = int(input(\"Enter Temperature in Celsius:\"))\n",
    "\n",
    "# Converting temperature from Celsius to fahrenheit\n",
    "f = (c * (9/5)) + 32  \n",
    "\n",
    "print(\"Temperature in Fahrenheit is\", f)"
   ]
  },
  {
   "cell_type": "markdown",
   "id": "f738d51a-d97d-4ec2-8108-ecd6fd91c138",
   "metadata": {},
   "source": [
    "# TOPIC: String Based Questions"
   ]
  },
  {
   "cell_type": "markdown",
   "id": "06cb67a5-ce5e-477d-8b9b-535f55c7b01e",
   "metadata": {},
   "source": [
    "#### 1. Write a Python program that takes a string as input and prints the length of the string."
   ]
  },
  {
   "cell_type": "code",
   "execution_count": null,
   "id": "713ad767-fb51-485a-9a58-a9881a8562ff",
   "metadata": {},
   "outputs": [],
   "source": [
    "s = input(\"Enter any word to get its length:\")\n",
    "\n",
    "print(\"Length of the input is\", len(s))"
   ]
  },
  {
   "cell_type": "markdown",
   "id": "7550e88f-c8ef-41f5-aef5-fbd85105bf45",
   "metadata": {},
   "source": [
    "#### 2. Create a program that takes a sentence from the user and counts the number of vowels (a, e, i, o, u) in the string."
   ]
  },
  {
   "cell_type": "code",
   "execution_count": null,
   "id": "377069f8-2df1-4322-90fb-749d5dbacf5b",
   "metadata": {},
   "outputs": [],
   "source": [
    "sentence = input(\"Enter a sentence:\")\n",
    "\n",
    "# Converting the sentence to lowercase to get all vowels\n",
    "sentence = sentence.lower()\n",
    "\n",
    "# Counter for vowels\n",
    "vow = 0\n",
    "\n",
    "# Counting the vowels\n",
    "vow += sentence.count(\"a\")\n",
    "vow += sentence.count(\"e\")\n",
    "vow += sentence.count(\"i\")\n",
    "vow += sentence.count(\"o\")\n",
    "vow += sentence.count(\"u\")\n",
    "\n",
    "print(\"The number of vowels in the input sentence:\", vow)"
   ]
  },
  {
   "cell_type": "markdown",
   "id": "9d9a9aaa-758d-4997-998a-526a7fb1fa2d",
   "metadata": {},
   "source": [
    "#### 3. Given a string, reverse the order of characters using string slicing and print the reversed string."
   ]
  },
  {
   "cell_type": "code",
   "execution_count": null,
   "id": "5f686902-c027-4db8-a67b-adb74e6374f1",
   "metadata": {},
   "outputs": [],
   "source": [
    "z = \"iNeuron\"\n",
    "\n",
    "# Reversing string\n",
    "rev = z[::-1]\n",
    "\n",
    "print(rev)"
   ]
  },
  {
   "cell_type": "markdown",
   "id": "a775fb19-d914-440c-8941-3209802e5a4f",
   "metadata": {},
   "source": [
    "#### 4. Write a program that takes a string as input and checks if it is a palindrome(reads the same forwards and backwards)."
   ]
  },
  {
   "cell_type": "code",
   "execution_count": null,
   "id": "f55e1245-403b-493f-a393-e1e4b6ef90ad",
   "metadata": {},
   "outputs": [],
   "source": [
    "user = input(\"Enter the word to check if its palindrome or not:\")\n",
    "\n",
    "r = user[::-1]\n",
    "\n",
    "# Checking if input string is palindrome or not\n",
    "if user == r:\n",
    "    print(\"Yes, it is a palindrome.\")\n",
    "else:\n",
    "    print(\"No, not a palindrome.\")"
   ]
  },
  {
   "cell_type": "markdown",
   "id": "b5810b63-16a4-4fb0-8801-88546154102e",
   "metadata": {},
   "source": [
    "#### 5. Create a program that takes a string as input and removes all the spaces from it. Print the modified string without spaces."
   ]
  },
  {
   "cell_type": "code",
   "execution_count": null,
   "id": "33f766da-c2d7-4fdc-8a22-a2ab16a54aee",
   "metadata": {},
   "outputs": [],
   "source": [
    "k = input(\"Enter any word with spaces:\")\n",
    "\n",
    "# Removing the spaces from input string\n",
    "m = k.strip()\n",
    "\n",
    "print(m)"
   ]
  }
 ],
 "metadata": {
  "kernelspec": {
   "display_name": "Python 3 (ipykernel)",
   "language": "python",
   "name": "python3"
  },
  "language_info": {
   "codemirror_mode": {
    "name": "ipython",
    "version": 3
   },
   "file_extension": ".py",
   "mimetype": "text/x-python",
   "name": "python",
   "nbconvert_exporter": "python",
   "pygments_lexer": "ipython3",
   "version": "3.10.8"
  }
 },
 "nbformat": 4,
 "nbformat_minor": 5
}
